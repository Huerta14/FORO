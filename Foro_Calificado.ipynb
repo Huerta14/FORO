{
 "cells": [
  {
   "cell_type": "markdown",
   "id": "8f12418b",
   "metadata": {},
   "source": [
    "# 2DO FORO CALIFICADO \n",
    "### Lenguaje de Programación 2"
   ]
  },
  {
   "cell_type": "markdown",
   "id": "ddf462eb",
   "metadata": {},
   "source": [
    "### INTEGRANTES :\n",
    "- Luis Stefano Huerta Barba              ***20191305***\n",
    "- Ana Lisset Chucas Mera                 ***20191296***\n",
    "- Elian Angeline Cuellar Tolentino       ***20191300***"
   ]
  },
  {
   "cell_type": "markdown",
   "id": "233cf84a",
   "metadata": {},
   "source": [
    "API de extración lo tomaremos de https://datahelpdesk.worldbank.org/knowledgebase/topics/125589\n",
    "\n",
    "\"NO ES NECESARIO LOGEARSE PARA CONECTAR CON EL API\"\n",
    "\n",
    "La siguiente información aparecerá, cuando esté disponible, en la respuesta al utilizar la consulta de este país a través de la API del Banco Mundial:\n",
    "\n",
    "* Código de 3 letras ISO 3166-1 alpha-3\n",
    "* Código de 2 letras ISO 3166-1 alpha-2\n",
    "* Nombre\n",
    "* Región: ID, nombre y código de 2 letras del Banco Mundial\n",
    "* Nivel de ingresos: ID, nombre y código de 2 letras del Banco Mundial\n",
    "* Tipo de préstamo: ID, nombre y código de 2 letras del Banco Mundial\n",
    "* Ciudad capital\n",
    "* Longitud\n",
    "* Latitud\n"
   ]
  },
  {
   "cell_type": "code",
   "execution_count": 5,
   "id": "69161be3",
   "metadata": {},
   "outputs": [
    {
     "name": "stdout",
     "output_type": "stream",
     "text": [
      "[{'id': 'ABW', 'iso2Code': 'AW', 'name': 'Aruba', 'region': {'id': 'LCN', 'iso2code': 'ZJ', 'value': 'Latin America & Caribbean '}, 'adminregion': {'id': '', 'iso2code': '', 'value': ''}, 'incomeLevel': {'id': 'HIC', 'iso2code': 'XD', 'value': 'High income'}, 'lendingType': {'id': 'LNX', 'iso2code': 'XX', 'value': 'Not classified'}, 'capitalCity': 'Oranjestad', 'longitude': '-70.0167', 'latitude': '12.5167'}, {'id': 'AFE', 'iso2Code': 'ZH', 'name': 'Africa Eastern and Southern', 'region': {'id': 'NA', 'iso2code': 'NA', 'value': 'Aggregates'}, 'adminregion': {'id': '', 'iso2code': '', 'value': ''}, 'incomeLevel': {'id': 'NA', 'iso2code': 'NA', 'value': 'Aggregates'}, 'lendingType': {'id': '', 'iso2code': '', 'value': 'Aggregates'}, 'capitalCity': '', 'longitude': '', 'latitude': ''}, {'id': 'AFG', 'iso2Code': 'AF', 'name': 'Afghanistan', 'region': {'id': 'SAS', 'iso2code': '8S', 'value': 'South Asia'}, 'adminregion': {'id': 'SAS', 'iso2code': '8S', 'value': 'South Asia'}, 'incomeLevel': {'id': 'LIC', 'iso2code': 'XM', 'value': 'Low income'}, 'lendingType': {'id': 'IDX', 'iso2code': 'XI', 'value': 'IDA'}, 'capitalCity': 'Kabul', 'longitude': '69.1761', 'latitude': '34.5228'}, {'id': 'AFR', 'iso2Code': 'A9', 'name': 'Africa', 'region': {'id': 'NA', 'iso2code': 'NA', 'value': 'Aggregates'}, 'adminregion': {'id': '', 'iso2code': '', 'value': ''}, 'incomeLevel': {'id': 'NA', 'iso2code': 'NA', 'value': 'Aggregates'}, 'lendingType': {'id': '', 'iso2code': '', 'value': 'Aggregates'}, 'capitalCity': '', 'longitude': '', 'latitude': ''}, {'id': 'AFW', 'iso2Code': 'ZI', 'name': 'Africa Western and Central', 'region': {'id': 'NA', 'iso2code': 'NA', 'value': 'Aggregates'}, 'adminregion': {'id': '', 'iso2code': '', 'value': ''}, 'incomeLevel': {'id': 'NA', 'iso2code': 'NA', 'value': 'Aggregates'}, 'lendingType': {'id': '', 'iso2code': '', 'value': 'Aggregates'}, 'capitalCity': '', 'longitude': '', 'latitude': ''}, {'id': 'AGO', 'iso2Code': 'AO', 'name': 'Angola', 'region': {'id': 'SSF', 'iso2code': 'ZG', 'value': 'Sub-Saharan Africa '}, 'adminregion': {'id': 'SSA', 'iso2code': 'ZF', 'value': 'Sub-Saharan Africa (excluding high income)'}, 'incomeLevel': {'id': 'LMC', 'iso2code': 'XN', 'value': 'Lower middle income'}, 'lendingType': {'id': 'IBD', 'iso2code': 'XF', 'value': 'IBRD'}, 'capitalCity': 'Luanda', 'longitude': '13.242', 'latitude': '-8.81155'}, {'id': 'ALB', 'iso2Code': 'AL', 'name': 'Albania', 'region': {'id': 'ECS', 'iso2code': 'Z7', 'value': 'Europe & Central Asia'}, 'adminregion': {'id': 'ECA', 'iso2code': '7E', 'value': 'Europe & Central Asia (excluding high income)'}, 'incomeLevel': {'id': 'UMC', 'iso2code': 'XT', 'value': 'Upper middle income'}, 'lendingType': {'id': 'IBD', 'iso2code': 'XF', 'value': 'IBRD'}, 'capitalCity': 'Tirane', 'longitude': '19.8172', 'latitude': '41.3317'}, {'id': 'AND', 'iso2Code': 'AD', 'name': 'Andorra', 'region': {'id': 'ECS', 'iso2code': 'Z7', 'value': 'Europe & Central Asia'}, 'adminregion': {'id': '', 'iso2code': '', 'value': ''}, 'incomeLevel': {'id': 'HIC', 'iso2code': 'XD', 'value': 'High income'}, 'lendingType': {'id': 'LNX', 'iso2code': 'XX', 'value': 'Not classified'}, 'capitalCity': 'Andorra la Vella', 'longitude': '1.5218', 'latitude': '42.5075'}, {'id': 'ARB', 'iso2Code': '1A', 'name': 'Arab World', 'region': {'id': 'NA', 'iso2code': 'NA', 'value': 'Aggregates'}, 'adminregion': {'id': '', 'iso2code': '', 'value': ''}, 'incomeLevel': {'id': 'NA', 'iso2code': 'NA', 'value': 'Aggregates'}, 'lendingType': {'id': '', 'iso2code': '', 'value': 'Aggregates'}, 'capitalCity': '', 'longitude': '', 'latitude': ''}, {'id': 'ARE', 'iso2Code': 'AE', 'name': 'United Arab Emirates', 'region': {'id': 'MEA', 'iso2code': 'ZQ', 'value': 'Middle East & North Africa'}, 'adminregion': {'id': '', 'iso2code': '', 'value': ''}, 'incomeLevel': {'id': 'HIC', 'iso2code': 'XD', 'value': 'High income'}, 'lendingType': {'id': 'LNX', 'iso2code': 'XX', 'value': 'Not classified'}, 'capitalCity': 'Abu Dhabi', 'longitude': '54.3705', 'latitude': '24.4764'}, {'id': 'ARG', 'iso2Code': 'AR', 'name': 'Argentina', 'region': {'id': 'LCN', 'iso2code': 'ZJ', 'value': 'Latin America & Caribbean '}, 'adminregion': {'id': 'LAC', 'iso2code': 'XJ', 'value': 'Latin America & Caribbean (excluding high income)'}, 'incomeLevel': {'id': 'UMC', 'iso2code': 'XT', 'value': 'Upper middle income'}, 'lendingType': {'id': 'IBD', 'iso2code': 'XF', 'value': 'IBRD'}, 'capitalCity': 'Buenos Aires', 'longitude': '-58.4173', 'latitude': '-34.6118'}, {'id': 'ARM', 'iso2Code': 'AM', 'name': 'Armenia', 'region': {'id': 'ECS', 'iso2code': 'Z7', 'value': 'Europe & Central Asia'}, 'adminregion': {'id': 'ECA', 'iso2code': '7E', 'value': 'Europe & Central Asia (excluding high income)'}, 'incomeLevel': {'id': 'UMC', 'iso2code': 'XT', 'value': 'Upper middle income'}, 'lendingType': {'id': 'IBD', 'iso2code': 'XF', 'value': 'IBRD'}, 'capitalCity': 'Yerevan', 'longitude': '44.509', 'latitude': '40.1596'}, {'id': 'ASM', 'iso2Code': 'AS', 'name': 'American Samoa', 'region': {'id': 'EAS', 'iso2code': 'Z4', 'value': 'East Asia & Pacific'}, 'adminregion': {'id': 'EAP', 'iso2code': '4E', 'value': 'East Asia & Pacific (excluding high income)'}, 'incomeLevel': {'id': 'UMC', 'iso2code': 'XT', 'value': 'Upper middle income'}, 'lendingType': {'id': 'LNX', 'iso2code': 'XX', 'value': 'Not classified'}, 'capitalCity': 'Pago Pago', 'longitude': '-170.691', 'latitude': '-14.2846'}, {'id': 'ATG', 'iso2Code': 'AG', 'name': 'Antigua and Barbuda', 'region': {'id': 'LCN', 'iso2code': 'ZJ', 'value': 'Latin America & Caribbean '}, 'adminregion': {'id': '', 'iso2code': '', 'value': ''}, 'incomeLevel': {'id': 'HIC', 'iso2code': 'XD', 'value': 'High income'}, 'lendingType': {'id': 'IBD', 'iso2code': 'XF', 'value': 'IBRD'}, 'capitalCity': \"Saint John's\", 'longitude': '-61.8456', 'latitude': '17.1175'}, {'id': 'AUS', 'iso2Code': 'AU', 'name': 'Australia', 'region': {'id': 'EAS', 'iso2code': 'Z4', 'value': 'East Asia & Pacific'}, 'adminregion': {'id': '', 'iso2code': '', 'value': ''}, 'incomeLevel': {'id': 'HIC', 'iso2code': 'XD', 'value': 'High income'}, 'lendingType': {'id': 'LNX', 'iso2code': 'XX', 'value': 'Not classified'}, 'capitalCity': 'Canberra', 'longitude': '149.129', 'latitude': '-35.282'}, {'id': 'AUT', 'iso2Code': 'AT', 'name': 'Austria', 'region': {'id': 'ECS', 'iso2code': 'Z7', 'value': 'Europe & Central Asia'}, 'adminregion': {'id': '', 'iso2code': '', 'value': ''}, 'incomeLevel': {'id': 'HIC', 'iso2code': 'XD', 'value': 'High income'}, 'lendingType': {'id': 'LNX', 'iso2code': 'XX', 'value': 'Not classified'}, 'capitalCity': 'Vienna', 'longitude': '16.3798', 'latitude': '48.2201'}, {'id': 'AZE', 'iso2Code': 'AZ', 'name': 'Azerbaijan', 'region': {'id': 'ECS', 'iso2code': 'Z7', 'value': 'Europe & Central Asia'}, 'adminregion': {'id': 'ECA', 'iso2code': '7E', 'value': 'Europe & Central Asia (excluding high income)'}, 'incomeLevel': {'id': 'UMC', 'iso2code': 'XT', 'value': 'Upper middle income'}, 'lendingType': {'id': 'IBD', 'iso2code': 'XF', 'value': 'IBRD'}, 'capitalCity': 'Baku', 'longitude': '49.8932', 'latitude': '40.3834'}, {'id': 'BDI', 'iso2Code': 'BI', 'name': 'Burundi', 'region': {'id': 'SSF', 'iso2code': 'ZG', 'value': 'Sub-Saharan Africa '}, 'adminregion': {'id': 'SSA', 'iso2code': 'ZF', 'value': 'Sub-Saharan Africa (excluding high income)'}, 'incomeLevel': {'id': 'LIC', 'iso2code': 'XM', 'value': 'Low income'}, 'lendingType': {'id': 'IDX', 'iso2code': 'XI', 'value': 'IDA'}, 'capitalCity': 'Bujumbura', 'longitude': '29.3639', 'latitude': '-3.3784'}, {'id': 'BEA', 'iso2Code': 'B4', 'name': 'East Asia & Pacific (IBRD-only countries)', 'region': {'id': 'NA', 'iso2code': 'NA', 'value': 'Aggregates'}, 'adminregion': {'id': '', 'iso2code': '', 'value': ''}, 'incomeLevel': {'id': 'NA', 'iso2code': 'NA', 'value': 'Aggregates'}, 'lendingType': {'id': '', 'iso2code': '', 'value': 'Aggregates'}, 'capitalCity': '', 'longitude': '', 'latitude': ''}, {'id': 'BEC', 'iso2Code': 'B7', 'name': 'Europe & Central Asia (IBRD-only countries)', 'region': {'id': 'NA', 'iso2code': 'NA', 'value': 'Aggregates'}, 'adminregion': {'id': '', 'iso2code': '', 'value': ''}, 'incomeLevel': {'id': 'NA', 'iso2code': 'NA', 'value': 'Aggregates'}, 'lendingType': {'id': '', 'iso2code': '', 'value': 'Aggregates'}, 'capitalCity': '', 'longitude': '', 'latitude': ''}, {'id': 'BEL', 'iso2Code': 'BE', 'name': 'Belgium', 'region': {'id': 'ECS', 'iso2code': 'Z7', 'value': 'Europe & Central Asia'}, 'adminregion': {'id': '', 'iso2code': '', 'value': ''}, 'incomeLevel': {'id': 'HIC', 'iso2code': 'XD', 'value': 'High income'}, 'lendingType': {'id': 'LNX', 'iso2code': 'XX', 'value': 'Not classified'}, 'capitalCity': 'Brussels', 'longitude': '4.36761', 'latitude': '50.8371'}, {'id': 'BEN', 'iso2Code': 'BJ', 'name': 'Benin', 'region': {'id': 'SSF', 'iso2code': 'ZG', 'value': 'Sub-Saharan Africa '}, 'adminregion': {'id': 'SSA', 'iso2code': 'ZF', 'value': 'Sub-Saharan Africa (excluding high income)'}, 'incomeLevel': {'id': 'LMC', 'iso2code': 'XN', 'value': 'Lower middle income'}, 'lendingType': {'id': 'IDX', 'iso2code': 'XI', 'value': 'IDA'}, 'capitalCity': 'Porto-Novo', 'longitude': '2.6323', 'latitude': '6.4779'}, {'id': 'BFA', 'iso2Code': 'BF', 'name': 'Burkina Faso', 'region': {'id': 'SSF', 'iso2code': 'ZG', 'value': 'Sub-Saharan Africa '}, 'adminregion': {'id': 'SSA', 'iso2code': 'ZF', 'value': 'Sub-Saharan Africa (excluding high income)'}, 'incomeLevel': {'id': 'LIC', 'iso2code': 'XM', 'value': 'Low income'}, 'lendingType': {'id': 'IDX', 'iso2code': 'XI', 'value': 'IDA'}, 'capitalCity': 'Ouagadougou', 'longitude': '-1.53395', 'latitude': '12.3605'}, {'id': 'BGD', 'iso2Code': 'BD', 'name': 'Bangladesh', 'region': {'id': 'SAS', 'iso2code': '8S', 'value': 'South Asia'}, 'adminregion': {'id': 'SAS', 'iso2code': '8S', 'value': 'South Asia'}, 'incomeLevel': {'id': 'LMC', 'iso2code': 'XN', 'value': 'Lower middle income'}, 'lendingType': {'id': 'IDX', 'iso2code': 'XI', 'value': 'IDA'}, 'capitalCity': 'Dhaka', 'longitude': '90.4113', 'latitude': '23.7055'}, {'id': 'BGR', 'iso2Code': 'BG', 'name': 'Bulgaria', 'region': {'id': 'ECS', 'iso2code': 'Z7', 'value': 'Europe & Central Asia'}, 'adminregion': {'id': 'ECA', 'iso2code': '7E', 'value': 'Europe & Central Asia (excluding high income)'}, 'incomeLevel': {'id': 'UMC', 'iso2code': 'XT', 'value': 'Upper middle income'}, 'lendingType': {'id': 'IBD', 'iso2code': 'XF', 'value': 'IBRD'}, 'capitalCity': 'Sofia', 'longitude': '23.3238', 'latitude': '42.7105'}, {'id': 'BHI', 'iso2Code': 'B1', 'name': 'IBRD countries classified as high income', 'region': {'id': 'NA', 'iso2code': 'NA', 'value': 'Aggregates'}, 'adminregion': {'id': '', 'iso2code': '', 'value': ''}, 'incomeLevel': {'id': 'NA', 'iso2code': 'NA', 'value': 'Aggregates'}, 'lendingType': {'id': '', 'iso2code': '', 'value': 'Aggregates'}, 'capitalCity': '', 'longitude': '', 'latitude': ''}, {'id': 'BHR', 'iso2Code': 'BH', 'name': 'Bahrain', 'region': {'id': 'MEA', 'iso2code': 'ZQ', 'value': 'Middle East & North Africa'}, 'adminregion': {'id': '', 'iso2code': '', 'value': ''}, 'incomeLevel': {'id': 'HIC', 'iso2code': 'XD', 'value': 'High income'}, 'lendingType': {'id': 'LNX', 'iso2code': 'XX', 'value': 'Not classified'}, 'capitalCity': 'Manama', 'longitude': '50.5354', 'latitude': '26.1921'}, {'id': 'BHS', 'iso2Code': 'BS', 'name': 'Bahamas, The', 'region': {'id': 'LCN', 'iso2code': 'ZJ', 'value': 'Latin America & Caribbean '}, 'adminregion': {'id': '', 'iso2code': '', 'value': ''}, 'incomeLevel': {'id': 'HIC', 'iso2code': 'XD', 'value': 'High income'}, 'lendingType': {'id': 'LNX', 'iso2code': 'XX', 'value': 'Not classified'}, 'capitalCity': 'Nassau', 'longitude': '-77.339', 'latitude': '25.0661'}, {'id': 'BIH', 'iso2Code': 'BA', 'name': 'Bosnia and Herzegovina', 'region': {'id': 'ECS', 'iso2code': 'Z7', 'value': 'Europe & Central Asia'}, 'adminregion': {'id': 'ECA', 'iso2code': '7E', 'value': 'Europe & Central Asia (excluding high income)'}, 'incomeLevel': {'id': 'UMC', 'iso2code': 'XT', 'value': 'Upper middle income'}, 'lendingType': {'id': 'IBD', 'iso2code': 'XF', 'value': 'IBRD'}, 'capitalCity': 'Sarajevo', 'longitude': '18.4214', 'latitude': '43.8607'}, {'id': 'BLA', 'iso2Code': 'B2', 'name': 'Latin America & the Caribbean (IBRD-only countries)', 'region': {'id': 'NA', 'iso2code': 'NA', 'value': 'Aggregates'}, 'adminregion': {'id': '', 'iso2code': '', 'value': ''}, 'incomeLevel': {'id': 'NA', 'iso2code': 'NA', 'value': 'Aggregates'}, 'lendingType': {'id': '', 'iso2code': '', 'value': 'Aggregates'}, 'capitalCity': '', 'longitude': '', 'latitude': ''}, {'id': 'BLR', 'iso2Code': 'BY', 'name': 'Belarus', 'region': {'id': 'ECS', 'iso2code': 'Z7', 'value': 'Europe & Central Asia'}, 'adminregion': {'id': 'ECA', 'iso2code': '7E', 'value': 'Europe & Central Asia (excluding high income)'}, 'incomeLevel': {'id': 'UMC', 'iso2code': 'XT', 'value': 'Upper middle income'}, 'lendingType': {'id': 'IBD', 'iso2code': 'XF', 'value': 'IBRD'}, 'capitalCity': 'Minsk', 'longitude': '27.5766', 'latitude': '53.9678'}, {'id': 'BLZ', 'iso2Code': 'BZ', 'name': 'Belize', 'region': {'id': 'LCN', 'iso2code': 'ZJ', 'value': 'Latin America & Caribbean '}, 'adminregion': {'id': 'LAC', 'iso2code': 'XJ', 'value': 'Latin America & Caribbean (excluding high income)'}, 'incomeLevel': {'id': 'LMC', 'iso2code': 'XN', 'value': 'Lower middle income'}, 'lendingType': {'id': 'IBD', 'iso2code': 'XF', 'value': 'IBRD'}, 'capitalCity': 'Belmopan', 'longitude': '-88.7713', 'latitude': '17.2534'}, {'id': 'BMN', 'iso2Code': 'B3', 'name': 'Middle East & North Africa (IBRD-only countries)', 'region': {'id': 'NA', 'iso2code': 'NA', 'value': 'Aggregates'}, 'adminregion': {'id': '', 'iso2code': '', 'value': ''}, 'incomeLevel': {'id': 'NA', 'iso2code': 'NA', 'value': 'Aggregates'}, 'lendingType': {'id': '', 'iso2code': '', 'value': 'Aggregates'}, 'capitalCity': '', 'longitude': '', 'latitude': ''}, {'id': 'BMU', 'iso2Code': 'BM', 'name': 'Bermuda', 'region': {'id': 'NAC', 'iso2code': 'XU', 'value': 'North America'}, 'adminregion': {'id': '', 'iso2code': '', 'value': ''}, 'incomeLevel': {'id': 'HIC', 'iso2code': 'XD', 'value': 'High income'}, 'lendingType': {'id': 'LNX', 'iso2code': 'XX', 'value': 'Not classified'}, 'capitalCity': 'Hamilton', 'longitude': '-64.706', 'latitude': '32.3293'}, {'id': 'BOL', 'iso2Code': 'BO', 'name': 'Bolivia', 'region': {'id': 'LCN', 'iso2code': 'ZJ', 'value': 'Latin America & Caribbean '}, 'adminregion': {'id': 'LAC', 'iso2code': 'XJ', 'value': 'Latin America & Caribbean (excluding high income)'}, 'incomeLevel': {'id': 'LMC', 'iso2code': 'XN', 'value': 'Lower middle income'}, 'lendingType': {'id': 'IBD', 'iso2code': 'XF', 'value': 'IBRD'}, 'capitalCity': 'La Paz', 'longitude': '-66.1936', 'latitude': '-13.9908'}, {'id': 'BRA', 'iso2Code': 'BR', 'name': 'Brazil', 'region': {'id': 'LCN', 'iso2code': 'ZJ', 'value': 'Latin America & Caribbean '}, 'adminregion': {'id': 'LAC', 'iso2code': 'XJ', 'value': 'Latin America & Caribbean (excluding high income)'}, 'incomeLevel': {'id': 'UMC', 'iso2code': 'XT', 'value': 'Upper middle income'}, 'lendingType': {'id': 'IBD', 'iso2code': 'XF', 'value': 'IBRD'}, 'capitalCity': 'Brasilia', 'longitude': '-47.9292', 'latitude': '-15.7801'}, {'id': 'BRB', 'iso2Code': 'BB', 'name': 'Barbados', 'region': {'id': 'LCN', 'iso2code': 'ZJ', 'value': 'Latin America & Caribbean '}, 'adminregion': {'id': '', 'iso2code': '', 'value': ''}, 'incomeLevel': {'id': 'HIC', 'iso2code': 'XD', 'value': 'High income'}, 'lendingType': {'id': 'LNX', 'iso2code': 'XX', 'value': 'Not classified'}, 'capitalCity': 'Bridgetown', 'longitude': '-59.6105', 'latitude': '13.0935'}, {'id': 'BRN', 'iso2Code': 'BN', 'name': 'Brunei Darussalam', 'region': {'id': 'EAS', 'iso2code': 'Z4', 'value': 'East Asia & Pacific'}, 'adminregion': {'id': '', 'iso2code': '', 'value': ''}, 'incomeLevel': {'id': 'HIC', 'iso2code': 'XD', 'value': 'High income'}, 'lendingType': {'id': 'LNX', 'iso2code': 'XX', 'value': 'Not classified'}, 'capitalCity': 'Bandar Seri Begawan', 'longitude': '114.946', 'latitude': '4.94199'}, {'id': 'BSS', 'iso2Code': 'B6', 'name': 'Sub-Saharan Africa (IBRD-only countries)', 'region': {'id': 'NA', 'iso2code': 'NA', 'value': 'Aggregates'}, 'adminregion': {'id': '', 'iso2code': '', 'value': ''}, 'incomeLevel': {'id': 'NA', 'iso2code': 'NA', 'value': 'Aggregates'}, 'lendingType': {'id': '', 'iso2code': '', 'value': 'Aggregates'}, 'capitalCity': '', 'longitude': '', 'latitude': ''}, {'id': 'BTN', 'iso2Code': 'BT', 'name': 'Bhutan', 'region': {'id': 'SAS', 'iso2code': '8S', 'value': 'South Asia'}, 'adminregion': {'id': 'SAS', 'iso2code': '8S', 'value': 'South Asia'}, 'incomeLevel': {'id': 'LMC', 'iso2code': 'XN', 'value': 'Lower middle income'}, 'lendingType': {'id': 'IDX', 'iso2code': 'XI', 'value': 'IDA'}, 'capitalCity': 'Thimphu', 'longitude': '89.6177', 'latitude': '27.5768'}, {'id': 'BWA', 'iso2Code': 'BW', 'name': 'Botswana', 'region': {'id': 'SSF', 'iso2code': 'ZG', 'value': 'Sub-Saharan Africa '}, 'adminregion': {'id': 'SSA', 'iso2code': 'ZF', 'value': 'Sub-Saharan Africa (excluding high income)'}, 'incomeLevel': {'id': 'UMC', 'iso2code': 'XT', 'value': 'Upper middle income'}, 'lendingType': {'id': 'IBD', 'iso2code': 'XF', 'value': 'IBRD'}, 'capitalCity': 'Gaborone', 'longitude': '25.9201', 'latitude': '-24.6544'}, {'id': 'CAA', 'iso2Code': 'C9', 'name': 'Sub-Saharan Africa (IFC classification)', 'region': {'id': 'NA', 'iso2code': 'NA', 'value': 'Aggregates'}, 'adminregion': {'id': '', 'iso2code': '', 'value': ''}, 'incomeLevel': {'id': 'NA', 'iso2code': 'NA', 'value': 'Aggregates'}, 'lendingType': {'id': '', 'iso2code': '', 'value': 'Aggregates'}, 'capitalCity': '', 'longitude': '', 'latitude': ''}, {'id': 'CAF', 'iso2Code': 'CF', 'name': 'Central African Republic', 'region': {'id': 'SSF', 'iso2code': 'ZG', 'value': 'Sub-Saharan Africa '}, 'adminregion': {'id': 'SSA', 'iso2code': 'ZF', 'value': 'Sub-Saharan Africa (excluding high income)'}, 'incomeLevel': {'id': 'LIC', 'iso2code': 'XM', 'value': 'Low income'}, 'lendingType': {'id': 'IDX', 'iso2code': 'XI', 'value': 'IDA'}, 'capitalCity': 'Bangui', 'longitude': '21.6407', 'latitude': '5.63056'}, {'id': 'CAN', 'iso2Code': 'CA', 'name': 'Canada', 'region': {'id': 'NAC', 'iso2code': 'XU', 'value': 'North America'}, 'adminregion': {'id': '', 'iso2code': '', 'value': ''}, 'incomeLevel': {'id': 'HIC', 'iso2code': 'XD', 'value': 'High income'}, 'lendingType': {'id': 'LNX', 'iso2code': 'XX', 'value': 'Not classified'}, 'capitalCity': 'Ottawa', 'longitude': '-75.6919', 'latitude': '45.4215'}, {'id': 'CEA', 'iso2Code': 'C4', 'name': 'East Asia and the Pacific (IFC classification)', 'region': {'id': 'NA', 'iso2code': 'NA', 'value': 'Aggregates'}, 'adminregion': {'id': '', 'iso2code': '', 'value': ''}, 'incomeLevel': {'id': 'NA', 'iso2code': 'NA', 'value': 'Aggregates'}, 'lendingType': {'id': '', 'iso2code': '', 'value': 'Aggregates'}, 'capitalCity': '', 'longitude': '', 'latitude': ''}, {'id': 'CEB', 'iso2Code': 'B8', 'name': 'Central Europe and the Baltics', 'region': {'id': 'NA', 'iso2code': 'NA', 'value': 'Aggregates'}, 'adminregion': {'id': '', 'iso2code': '', 'value': ''}, 'incomeLevel': {'id': 'NA', 'iso2code': 'NA', 'value': 'Aggregates'}, 'lendingType': {'id': '', 'iso2code': '', 'value': 'Aggregates'}, 'capitalCity': '', 'longitude': '', 'latitude': ''}, {'id': 'CEU', 'iso2Code': 'C5', 'name': 'Europe and Central Asia (IFC classification)', 'region': {'id': 'NA', 'iso2code': 'NA', 'value': 'Aggregates'}, 'adminregion': {'id': '', 'iso2code': '', 'value': ''}, 'incomeLevel': {'id': 'NA', 'iso2code': 'NA', 'value': 'Aggregates'}, 'lendingType': {'id': '', 'iso2code': '', 'value': 'Aggregates'}, 'capitalCity': '', 'longitude': '', 'latitude': ''}, {'id': 'CHE', 'iso2Code': 'CH', 'name': 'Switzerland', 'region': {'id': 'ECS', 'iso2code': 'Z7', 'value': 'Europe & Central Asia'}, 'adminregion': {'id': '', 'iso2code': '', 'value': ''}, 'incomeLevel': {'id': 'HIC', 'iso2code': 'XD', 'value': 'High income'}, 'lendingType': {'id': 'LNX', 'iso2code': 'XX', 'value': 'Not classified'}, 'capitalCity': 'Bern', 'longitude': '7.44821', 'latitude': '46.948'}, {'id': 'CHI', 'iso2Code': 'JG', 'name': 'Channel Islands', 'region': {'id': 'ECS', 'iso2code': 'Z7', 'value': 'Europe & Central Asia'}, 'adminregion': {'id': '', 'iso2code': '', 'value': ''}, 'incomeLevel': {'id': 'HIC', 'iso2code': 'XD', 'value': 'High income'}, 'lendingType': {'id': 'LNX', 'iso2code': 'XX', 'value': 'Not classified'}, 'capitalCity': '', 'longitude': '', 'latitude': ''}, {'id': 'CHL', 'iso2Code': 'CL', 'name': 'Chile', 'region': {'id': 'LCN', 'iso2code': 'ZJ', 'value': 'Latin America & Caribbean '}, 'adminregion': {'id': '', 'iso2code': '', 'value': ''}, 'incomeLevel': {'id': 'HIC', 'iso2code': 'XD', 'value': 'High income'}, 'lendingType': {'id': 'IBD', 'iso2code': 'XF', 'value': 'IBRD'}, 'capitalCity': 'Santiago', 'longitude': '-70.6475', 'latitude': '-33.475'}]\n"
     ]
    }
   ],
   "source": [
    "import requests\n",
    "#Nos conectamos con el Api\n",
    "url='http://api.worldbank.org/v2/country?format=json'\n",
    "#Nos conectamos mediante formato json(\"diccionario\")\n",
    "r=requests.get(url).json()\n",
    "print(r[1])"
   ]
  },
  {
   "cell_type": "code",
   "execution_count": 18,
   "id": "82ac17c3",
   "metadata": {},
   "outputs": [
    {
     "name": "stdout",
     "output_type": "stream",
     "text": [
      "[['Aruba', 'Latin America & Caribbean ', '-70.0167', '12.5167'], ['Africa Eastern and Southern', 'Aggregates', '', ''], ['Afghanistan', 'South Asia', '69.1761', '34.5228'], ['Africa', 'Aggregates', '', ''], ['Africa Western and Central', 'Aggregates', '', ''], ['Angola', 'Sub-Saharan Africa ', '13.242', '-8.81155'], ['Albania', 'Europe & Central Asia', '19.8172', '41.3317'], ['Andorra', 'Europe & Central Asia', '1.5218', '42.5075'], ['Arab World', 'Aggregates', '', ''], ['United Arab Emirates', 'Middle East & North Africa', '54.3705', '24.4764'], ['Argentina', 'Latin America & Caribbean ', '-58.4173', '-34.6118'], ['Armenia', 'Europe & Central Asia', '44.509', '40.1596'], ['American Samoa', 'East Asia & Pacific', '-170.691', '-14.2846'], ['Antigua and Barbuda', 'Latin America & Caribbean ', '-61.8456', '17.1175'], ['Australia', 'East Asia & Pacific', '149.129', '-35.282'], ['Austria', 'Europe & Central Asia', '16.3798', '48.2201'], ['Azerbaijan', 'Europe & Central Asia', '49.8932', '40.3834'], ['Burundi', 'Sub-Saharan Africa ', '29.3639', '-3.3784'], ['East Asia & Pacific (IBRD-only countries)', 'Aggregates', '', ''], ['Europe & Central Asia (IBRD-only countries)', 'Aggregates', '', ''], ['Belgium', 'Europe & Central Asia', '4.36761', '50.8371'], ['Benin', 'Sub-Saharan Africa ', '2.6323', '6.4779'], ['Burkina Faso', 'Sub-Saharan Africa ', '-1.53395', '12.3605'], ['Bangladesh', 'South Asia', '90.4113', '23.7055'], ['Bulgaria', 'Europe & Central Asia', '23.3238', '42.7105'], ['IBRD countries classified as high income', 'Aggregates', '', ''], ['Bahrain', 'Middle East & North Africa', '50.5354', '26.1921'], ['Bahamas, The', 'Latin America & Caribbean ', '-77.339', '25.0661'], ['Bosnia and Herzegovina', 'Europe & Central Asia', '18.4214', '43.8607'], ['Latin America & the Caribbean (IBRD-only countries)', 'Aggregates', '', ''], ['Belarus', 'Europe & Central Asia', '27.5766', '53.9678'], ['Belize', 'Latin America & Caribbean ', '-88.7713', '17.2534'], ['Middle East & North Africa (IBRD-only countries)', 'Aggregates', '', ''], ['Bermuda', 'North America', '-64.706', '32.3293'], ['Bolivia', 'Latin America & Caribbean ', '-66.1936', '-13.9908'], ['Brazil', 'Latin America & Caribbean ', '-47.9292', '-15.7801'], ['Barbados', 'Latin America & Caribbean ', '-59.6105', '13.0935'], ['Brunei Darussalam', 'East Asia & Pacific', '114.946', '4.94199'], ['Sub-Saharan Africa (IBRD-only countries)', 'Aggregates', '', ''], ['Bhutan', 'South Asia', '89.6177', '27.5768'], ['Botswana', 'Sub-Saharan Africa ', '25.9201', '-24.6544'], ['Sub-Saharan Africa (IFC classification)', 'Aggregates', '', ''], ['Central African Republic', 'Sub-Saharan Africa ', '21.6407', '5.63056'], ['Canada', 'North America', '-75.6919', '45.4215'], ['East Asia and the Pacific (IFC classification)', 'Aggregates', '', ''], ['Central Europe and the Baltics', 'Aggregates', '', ''], ['Europe and Central Asia (IFC classification)', 'Aggregates', '', ''], ['Switzerland', 'Europe & Central Asia', '7.44821', '46.948'], ['Channel Islands', 'Europe & Central Asia', '', ''], ['Chile', 'Latin America & Caribbean ', '-70.6475', '-33.475']]\n"
     ]
    }
   ],
   "source": [
    "lista=[]                             #Creamos una lista vacia\n",
    "for i in r[1]:                       #Con \"for\" extraemos los datos que deseamos del Api\n",
    "    L=[]\n",
    "    L.append(i[\"name\"])\n",
    "    L.append(i[\"region\"][\"value\"])\n",
    "    L.append(i[\"longitude\"])\n",
    "    L.append(i[\"latitude\"])\n",
    "    lista.append(L)\n",
    "print(lista)                         #Comprobamos la nueva lista"
   ]
  },
  {
   "cell_type": "code",
   "execution_count": 21,
   "id": "2fa78589",
   "metadata": {},
   "outputs": [
    {
     "name": "stdout",
     "output_type": "stream",
     "text": [
      "                                               Paises  \\\n",
      "0                                               Aruba   \n",
      "1                         Africa Eastern and Southern   \n",
      "2                                         Afghanistan   \n",
      "3                                              Africa   \n",
      "4                          Africa Western and Central   \n",
      "5                                              Angola   \n",
      "6                                             Albania   \n",
      "7                                             Andorra   \n",
      "8                                          Arab World   \n",
      "9                                United Arab Emirates   \n",
      "10                                          Argentina   \n",
      "11                                            Armenia   \n",
      "12                                     American Samoa   \n",
      "13                                Antigua and Barbuda   \n",
      "14                                          Australia   \n",
      "15                                            Austria   \n",
      "16                                         Azerbaijan   \n",
      "17                                            Burundi   \n",
      "18          East Asia & Pacific (IBRD-only countries)   \n",
      "19        Europe & Central Asia (IBRD-only countries)   \n",
      "20                                            Belgium   \n",
      "21                                              Benin   \n",
      "22                                       Burkina Faso   \n",
      "23                                         Bangladesh   \n",
      "24                                           Bulgaria   \n",
      "25           IBRD countries classified as high income   \n",
      "26                                            Bahrain   \n",
      "27                                       Bahamas, The   \n",
      "28                             Bosnia and Herzegovina   \n",
      "29  Latin America & the Caribbean (IBRD-only count...   \n",
      "30                                            Belarus   \n",
      "31                                             Belize   \n",
      "32   Middle East & North Africa (IBRD-only countries)   \n",
      "33                                            Bermuda   \n",
      "34                                            Bolivia   \n",
      "35                                             Brazil   \n",
      "36                                           Barbados   \n",
      "37                                  Brunei Darussalam   \n",
      "38           Sub-Saharan Africa (IBRD-only countries)   \n",
      "39                                             Bhutan   \n",
      "40                                           Botswana   \n",
      "41            Sub-Saharan Africa (IFC classification)   \n",
      "42                           Central African Republic   \n",
      "43                                             Canada   \n",
      "44     East Asia and the Pacific (IFC classification)   \n",
      "45                     Central Europe and the Baltics   \n",
      "46       Europe and Central Asia (IFC classification)   \n",
      "47                                        Switzerland   \n",
      "48                                    Channel Islands   \n",
      "49                                              Chile   \n",
      "\n",
      "                        Region  Longitud   Latitud  \n",
      "0   Latin America & Caribbean   -70.0167   12.5167  \n",
      "1                   Aggregates                      \n",
      "2                   South Asia   69.1761   34.5228  \n",
      "3                   Aggregates                      \n",
      "4                   Aggregates                      \n",
      "5          Sub-Saharan Africa     13.242  -8.81155  \n",
      "6        Europe & Central Asia   19.8172   41.3317  \n",
      "7        Europe & Central Asia    1.5218   42.5075  \n",
      "8                   Aggregates                      \n",
      "9   Middle East & North Africa   54.3705   24.4764  \n",
      "10  Latin America & Caribbean   -58.4173  -34.6118  \n",
      "11       Europe & Central Asia    44.509   40.1596  \n",
      "12         East Asia & Pacific  -170.691  -14.2846  \n",
      "13  Latin America & Caribbean   -61.8456   17.1175  \n",
      "14         East Asia & Pacific   149.129   -35.282  \n",
      "15       Europe & Central Asia   16.3798   48.2201  \n",
      "16       Europe & Central Asia   49.8932   40.3834  \n",
      "17         Sub-Saharan Africa    29.3639   -3.3784  \n",
      "18                  Aggregates                      \n",
      "19                  Aggregates                      \n",
      "20       Europe & Central Asia   4.36761   50.8371  \n",
      "21         Sub-Saharan Africa     2.6323    6.4779  \n",
      "22         Sub-Saharan Africa   -1.53395   12.3605  \n",
      "23                  South Asia   90.4113   23.7055  \n",
      "24       Europe & Central Asia   23.3238   42.7105  \n",
      "25                  Aggregates                      \n",
      "26  Middle East & North Africa   50.5354   26.1921  \n",
      "27  Latin America & Caribbean    -77.339   25.0661  \n",
      "28       Europe & Central Asia   18.4214   43.8607  \n",
      "29                  Aggregates                      \n",
      "30       Europe & Central Asia   27.5766   53.9678  \n",
      "31  Latin America & Caribbean   -88.7713   17.2534  \n",
      "32                  Aggregates                      \n",
      "33               North America   -64.706   32.3293  \n",
      "34  Latin America & Caribbean   -66.1936  -13.9908  \n",
      "35  Latin America & Caribbean   -47.9292  -15.7801  \n",
      "36  Latin America & Caribbean   -59.6105   13.0935  \n",
      "37         East Asia & Pacific   114.946   4.94199  \n",
      "38                  Aggregates                      \n",
      "39                  South Asia   89.6177   27.5768  \n",
      "40         Sub-Saharan Africa    25.9201  -24.6544  \n",
      "41                  Aggregates                      \n",
      "42         Sub-Saharan Africa    21.6407   5.63056  \n",
      "43               North America  -75.6919   45.4215  \n",
      "44                  Aggregates                      \n",
      "45                  Aggregates                      \n",
      "46                  Aggregates                      \n",
      "47       Europe & Central Asia   7.44821    46.948  \n",
      "48       Europe & Central Asia                      \n",
      "49  Latin America & Caribbean   -70.6475   -33.475  \n"
     ]
    }
   ],
   "source": [
    "import pandas as pd \n",
    "paises=pd.DataFrame(lista,columns=['Paises','Region',\"Longitud\",\"Latitud\"]) #Con pandas volvemos nuestra lista a un dataframe\n",
    "paises.to_csv(\"Paises.csv\")                                                 #Guardamos nuestro dataframe en un archivo csv\n",
    "print(paises)"
   ]
  }
 ],
 "metadata": {
  "kernelspec": {
   "display_name": "Python 3",
   "language": "python",
   "name": "python3"
  },
  "language_info": {
   "codemirror_mode": {
    "name": "ipython",
    "version": 3
   },
   "file_extension": ".py",
   "mimetype": "text/x-python",
   "name": "python",
   "nbconvert_exporter": "python",
   "pygments_lexer": "ipython3",
   "version": "3.8.8"
  }
 },
 "nbformat": 4,
 "nbformat_minor": 5
}
